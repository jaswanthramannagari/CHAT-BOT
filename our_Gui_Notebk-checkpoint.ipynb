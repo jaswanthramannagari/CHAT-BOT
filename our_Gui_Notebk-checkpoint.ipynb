{
 "cells": [
  {
   "cell_type": "code",
   "execution_count": 9,
   "metadata": {},
   "outputs": [
    {
     "name": "stderr",
     "output_type": "stream",
     "text": [
      "Using TensorFlow backend.\n"
     ]
    },
    {
     "name": "stdout",
     "output_type": "stream",
     "text": [
      "ints:  [{'intent': 'greeting', 'probability': '0.9776569'}]\n"
     ]
    }
   ],
   "source": [
    "import nltk\n",
    "from nltk.stem import WordNetLemmatizer\n",
    "lemmatizer = WordNetLemmatizer()\n",
    "import pickle\n",
    "import numpy as np\n",
    "\n",
    "from keras.models import load_model\n",
    "model = load_model('models/chatbot_model.h5')\n",
    "import json\n",
    "import random\n",
    "\n",
    "intents = json.loads(open('assets/nintents.json').read())\n",
    "words = pickle.load(open('assets/words.pkl','rb'))\n",
    "classes = pickle.load(open('assets/classes.pkl','rb'))\n",
    "\n",
    "\n",
    "def clean_up_sentence(sentence):\n",
    "    # tokenize the pattern - split words into array\n",
    "    sentence_words = nltk.word_tokenize(sentence)\n",
    "    # stem each word - create short form for word\n",
    "    sentence_words = [lemmatizer.lemmatize(word.lower()) for word in sentence_words]\n",
    "    return sentence_words\n",
    "\n",
    "# return bag of words array: 0 or 1 for each word in the bag that exists in the sentence\n",
    "\n",
    "def bow(sentence, words, show_details=True):\n",
    "    # tokenize the pattern\n",
    "    sentence_words = clean_up_sentence(sentence)\n",
    "    # bag of words - matrix of N words, vocabulary matrix\n",
    "    bag = [0]*len(words)  \n",
    "    for s in sentence_words:\n",
    "        for i,w in enumerate(words):\n",
    "            if w == s: \n",
    "                # assign 1 if current word is in the vocabulary position\n",
    "                bag[i] = 1\n",
    "                if show_details:\n",
    "                    print (\"found in bag: %s\" % w)\n",
    "    return(np.array(bag))\n",
    "\n",
    "def predict_class(sentence, model):\n",
    "    # filter out predictions below a threshold\n",
    "    p = bow(sentence, words,show_details=False)\n",
    "    res = model.predict(np.array([p]))[0]\n",
    "    ERROR_THRESHOLD = 0.25\n",
    "    results = [[i,r] for i,r in enumerate(res) if r>ERROR_THRESHOLD]\n",
    "    # sort by strength of probability\n",
    "    results.sort(key=lambda x: x[1], reverse=True)\n",
    "    return_list = []\n",
    "    for r in results:\n",
    "        return_list.append({\"intent\": classes[r[0]], \"probability\": str(r[1])})\n",
    "    return return_list\n",
    "\n",
    "def getResponse(ints, intents_json):\n",
    "    tag = ints[0]['intent']\n",
    "    list_of_intents = intents_json['intents']\n",
    "    for i in list_of_intents:\n",
    "        if(i['tag']== tag):\n",
    "            result = random.choice(i['responses'])\n",
    "            break\n",
    "    return result\n",
    "\n",
    "def chatbot_response(msg):\n",
    "    arr = tokenization(msg)\n",
    "    if(arr[0] == \"db\"):\n",
    "        return handle_db(create_connection('table.db'), msg)\n",
    "    \n",
    "    ints = predict_class(msg, model)\n",
    "    \n",
    "    print(\"ints: \",ints)\n",
    "    if(len(ints) == 0):\n",
    "        return \"Retry again please!\"\n",
    "    res = getResponse(ints, intents)\n",
    "    return res\n",
    "\n",
    "\n",
    "#Creating GUI with tkinter\n",
    "import tkinter\n",
    "from tkinter import *\n",
    "\n",
    "\n",
    "def send():\n",
    "    msg = EntryBox.get(\"1.0\",'end-1c').strip()\n",
    "    EntryBox.delete(\"0.0\",END)\n",
    "\n",
    "    if msg != '':\n",
    "        ChatLog.config(state=NORMAL)\n",
    "        ChatLog.insert(END, \"You: \" + msg + '\\n\\n')\n",
    "        ChatLog.config(foreground=\"#442265\", font=(\"Verdana\", 12 ))\n",
    "    \n",
    "        res = chatbot_response(msg)\n",
    "        ChatLog.insert(END, \"Bot: \" + res + '\\n\\n')\n",
    "            \n",
    "        ChatLog.config(state=DISABLED)\n",
    "        ChatLog.yview(END)\n",
    " \n",
    "\n",
    "base = Tk()\n",
    "base.wm_iconbitmap('chat icon.ico')\n",
    "base.title(\"EmoChatbot\")\n",
    "base.geometry(\"400x500\")\n",
    "base.resizable(width=FALSE, height=FALSE)\n",
    "\n",
    "#Create Chat window\n",
    "ChatLog = Text(base, bd=0, bg=\"white\", height=\"8\", width=\"50\", font=\"Arial\",)\n",
    "\n",
    "ChatLog.config(state=DISABLED)\n",
    "\n",
    "#Bind scrollbar to Chat window\n",
    "scrollbar = Scrollbar(base, command=ChatLog.yview, cursor=\"arrow\")\n",
    "ChatLog['yscrollcommand'] = scrollbar.set\n",
    "\n",
    "#Create Button to send message\n",
    "SendButton = Button(base, font=(\"Verdana\",12,'bold'), text=\"Send\", width=\"12\", height=5,\n",
    "                    bd=0, bg=\"#32de97\", activebackground=\"#3c9d9b\",fg='#ffffff',\n",
    "                    command= send )\n",
    "\n",
    "#Create the box to enter message\n",
    "EntryBox = Text(base, bd=0, bg=\"white\",width=\"29\", height=\"5\", font=\"Arial\")\n",
    "#EntryBox.bind(\"<Return>\", send)\n",
    "\n",
    "#Place all components on the screen\n",
    "scrollbar.place(x=376,y=6, height=386)\n",
    "ChatLog.place(x=6,y=6, height=386, width=370)\n",
    "EntryBox.place(x=128, y=401, height=90, width=265)\n",
    "SendButton.place(x=6, y=401, height=90)\n",
    "\n",
    "base.mainloop()"
   ]
  },
  {
   "cell_type": "code",
   "execution_count": 1,
   "metadata": {},
   "outputs": [],
   "source": [
    "# import libraries\n",
    "import pandas as pd\n",
    "import sqlite3"
   ]
  },
  {
   "cell_type": "code",
   "execution_count": 2,
   "metadata": {},
   "outputs": [],
   "source": [
    "%load_ext sql"
   ]
  },
  {
   "cell_type": "code",
   "execution_count": 4,
   "metadata": {},
   "outputs": [],
   "source": [
    "# pip install ipython-sql"
   ]
  },
  {
   "cell_type": "code",
   "execution_count": 3,
   "metadata": {},
   "outputs": [],
   "source": [
    "cnn = sqlite3.connect('table.db')\n",
    "%sql sqlite:///table.db"
   ]
  },
  {
   "cell_type": "code",
   "execution_count": 4,
   "metadata": {},
   "outputs": [
    {
     "name": "stdout",
     "output_type": "stream",
     "text": [
      " * sqlite:///table.db\n",
      "(sqlite3.OperationalError) table timetable already exists\n",
      "[SQL: create table timetable (\n",
      "  day varchar(30) not null,\n",
      "  per1 varchar(30) not null,\n",
      "  per2 varchar(30) not null,\n",
      "  per3 varchar(30) not null,\n",
      "  per4 varchar(30) not null,\n",
      "  per5 varchar(30) not null,\n",
      "  per6 varchar(30) not null,\n",
      "  per7 varchar(30) not null,\n",
      "  per8 varchar(30) not null\n",
      ")]\n",
      "(Background on this error at: https://sqlalche.me/e/14/e3q8)\n"
     ]
    }
   ],
   "source": [
    "%%sql\n",
    "\n",
    "create table timetable (\n",
    "  day varchar(30) not null,\n",
    "  per1 varchar(30) not null,\n",
    "  per2 varchar(30) not null,\n",
    "  per3 varchar(30) not null,\n",
    "  per4 varchar(30) not null,\n",
    "  per5 varchar(30) not null,\n",
    "  per6 varchar(30) not null,\n",
    "  per7 varchar(30) not null,\n",
    "  per8 varchar(30) not null\n",
    ")"
   ]
  },
  {
   "cell_type": "code",
   "execution_count": 13,
   "metadata": {},
   "outputs": [
    {
     "name": "stdout",
     "output_type": "stream",
     "text": [
      " * sqlite:///table.db\n",
      "1 rows affected.\n"
     ]
    },
    {
     "data": {
      "text/plain": [
       "[]"
      ]
     },
     "execution_count": 13,
     "metadata": {},
     "output_type": "execute_result"
    }
   ],
   "source": [
    "# %%sql\n",
    "# INSERT INTO timetable(day, per1, per2, per3, per4, per5, per6, per7, per8) VALUES('monday','ML lab','MLlab','MLlab','MLlab','Free','ML','SE','Free')\n",
    "# INSERT INTO timetable(day, per1, per2, per3, per4, per5, per6, per7, per8) VALUES('tuesday','Crypto','Free','PP','PP','Free','Free','Free','Free')\n",
    "# INSERT INTO timetable(day, per1, per2, per3, per4, per5, per6, per7, per8) VALUES('wednesday','Free','Free','Free','SE','CIP','CIP','CIP','CIP')\n",
    "# INSERT INTO timetable(day, per1, per2, per3, per4, per5, per6, per7, per8) VALUES('wednesday','Free','Free','Free','SE','CIP','CIP','CIP','CIP')\n",
    "# INSERT INTO timetable(day, per1, per2, per3, per4, per5, per6, per7, per8) VALUES('thursday','Free','Free','Free','Free','Free','Free','Crypto','Free')\n",
    "# INSERT INTO timetable(day, per1, per2, per3, per4, per5, per6, per7, per8) VALUES('friday','ML','ML','Crypto','PP','SE','Free','Free','Free')"
   ]
  },
  {
   "cell_type": "code",
   "execution_count": 4,
   "metadata": {},
   "outputs": [
    {
     "name": "stdout",
     "output_type": "stream",
     "text": [
      " * sqlite:///table.db\n",
      "Done.\n"
     ]
    },
    {
     "data": {
      "text/html": [
       "<table>\n",
       "    <tr>\n",
       "        <th>day</th>\n",
       "        <th>per1</th>\n",
       "        <th>per2</th>\n",
       "        <th>per3</th>\n",
       "        <th>per4</th>\n",
       "        <th>per5</th>\n",
       "        <th>per6</th>\n",
       "        <th>per7</th>\n",
       "        <th>per8</th>\n",
       "    </tr>\n",
       "    <tr>\n",
       "        <td>monday</td>\n",
       "        <td>ML lab</td>\n",
       "        <td>MLlab</td>\n",
       "        <td>MLlab</td>\n",
       "        <td>MLlab</td>\n",
       "        <td>Free</td>\n",
       "        <td>ML</td>\n",
       "        <td>SE</td>\n",
       "        <td>Free</td>\n",
       "    </tr>\n",
       "    <tr>\n",
       "        <td>tuesday</td>\n",
       "        <td>Crypto</td>\n",
       "        <td>Free</td>\n",
       "        <td>PP</td>\n",
       "        <td>PP</td>\n",
       "        <td>Free</td>\n",
       "        <td>Free</td>\n",
       "        <td>Free</td>\n",
       "        <td>Free</td>\n",
       "    </tr>\n",
       "    <tr>\n",
       "        <td>wednesday</td>\n",
       "        <td>Free</td>\n",
       "        <td>Free</td>\n",
       "        <td>Free</td>\n",
       "        <td>SE</td>\n",
       "        <td>CIP</td>\n",
       "        <td>CIP</td>\n",
       "        <td>CIP</td>\n",
       "        <td>CIP</td>\n",
       "    </tr>\n",
       "    <tr>\n",
       "        <td>thursday</td>\n",
       "        <td>Free</td>\n",
       "        <td>Free</td>\n",
       "        <td>Free</td>\n",
       "        <td>Free</td>\n",
       "        <td>Free</td>\n",
       "        <td>Free</td>\n",
       "        <td>Crypto</td>\n",
       "        <td>Free</td>\n",
       "    </tr>\n",
       "    <tr>\n",
       "        <td>friday</td>\n",
       "        <td>ML</td>\n",
       "        <td>ML</td>\n",
       "        <td>Crypto</td>\n",
       "        <td>PP</td>\n",
       "        <td>SE</td>\n",
       "        <td>Free</td>\n",
       "        <td>Free</td>\n",
       "        <td>Free</td>\n",
       "    </tr>\n",
       "</table>"
      ],
      "text/plain": [
       "[('monday', 'ML lab', 'MLlab', 'MLlab', 'MLlab', 'Free', 'ML', 'SE', 'Free'),\n",
       " ('tuesday', 'Crypto', 'Free', 'PP', 'PP', 'Free', 'Free', 'Free', 'Free'),\n",
       " ('wednesday', 'Free', 'Free', 'Free', 'SE', 'CIP', 'CIP', 'CIP', 'CIP'),\n",
       " ('thursday', 'Free', 'Free', 'Free', 'Free', 'Free', 'Free', 'Crypto', 'Free'),\n",
       " ('friday', 'ML', 'ML', 'Crypto', 'PP', 'SE', 'Free', 'Free', 'Free')]"
      ]
     },
     "execution_count": 4,
     "metadata": {},
     "output_type": "execute_result"
    }
   ],
   "source": [
    "%%sql\n",
    "\n",
    "select * from timetable"
   ]
  },
  {
   "cell_type": "code",
   "execution_count": 5,
   "metadata": {},
   "outputs": [],
   "source": [
    "stop_words = ['could','the','you','who','what','which','is','my', 'our', 'their', 'a', 'an', 'of','period', 'view', 'db','change','to','update']\n",
    "\n",
    "def remove_stopWords(s):\n",
    "    #For removing stop words\n",
    "    s = ' '.join(word for word in s.split() if word not in stop_words)\n",
    "    return s\n",
    "\n",
    "import re\n",
    "def tokenization(text):\n",
    "    tokens = re.split(r\"\\s+\",text)\n",
    "    return tokens\n",
    "\n",
    "\n",
    "from nltk.stem.porter import PorterStemmer\n",
    "porter_stemmer = PorterStemmer()\n",
    "def stemming(arr):\n",
    "    stem_text = []\n",
    "    for word in arr:\n",
    "        stem_text.append(porter_stemmer.stem(word))\n",
    "    return stem_text\n",
    "\n",
    "\n",
    "from nltk.stem import WordNetLemmatizer\n",
    "wordnet_lemmatizer = WordNetLemmatizer()\n",
    "def lemmetization(arr):\n",
    "    lem_text = []\n",
    "    for word in arr:\n",
    "        lem_text.append(wordnet_lemmatizer.lemmatize(word))\n",
    "    return lem_text\n",
    "\n",
    "def text_preprocessing(text):\n",
    "    text = str.lower(text)\n",
    "    text = remove_stopWords(text)\n",
    "    text = tokenization(text)\n",
    "    return text"
   ]
  },
  {
   "cell_type": "code",
   "execution_count": 6,
   "metadata": {},
   "outputs": [],
   "source": [
    "def create_connection(db_file):\n",
    "    \"\"\" create a database connection to the SQLite database\n",
    "        specified by the db_file\n",
    "    :param db_file: database file\n",
    "    :return: Connection object or None\n",
    "    \"\"\"\n",
    "    conn = None\n",
    "    try:\n",
    "        conn = sqlite3.connect(db_file)\n",
    "    except Error as e:\n",
    "        print(e)\n",
    "\n",
    "    return conn\n",
    "\n",
    "def view_period (conn, period, day):\n",
    "    cur = conn.cursor()\n",
    "    cur.execute(f\"\"\"SELECT * FROM timetable\n",
    "                WHERE day = '{day}'\"\"\")\n",
    "\n",
    "    rows = cur.fetchall()\n",
    "\n",
    "    if len(list(rows)) < 1:\n",
    "        return \"There are no resources matching your query.\"\n",
    "    else:\n",
    "        for row in random.sample(rows, 1):\n",
    "            return f\"the {period}th period of {day} is {row[period]}\"\n",
    "\n",
    "def update_period (conn, period, day, value):\n",
    "    cur = conn.cursor()\n",
    "    per = 'per'+str(period)\n",
    "    print(value)\n",
    "    cur.execute(f\"\"\"UPDATE timetable SET {per}= '{value}'\n",
    "                WHERE day='{day}'\"\"\")\n",
    "    conn.commit()\n",
    "    return \"Thanks I updated your data into my db\""
   ]
  },
  {
   "cell_type": "code",
   "execution_count": 7,
   "metadata": {},
   "outputs": [
    {
     "name": "stdout",
     "output_type": "stream",
     "text": [
      "SE\n"
     ]
    },
    {
     "data": {
      "text/plain": [
       "'the 4th period of wednesday is SE'"
      ]
     },
     "execution_count": 7,
     "metadata": {},
     "output_type": "execute_result"
    }
   ],
   "source": [
    "import random\n",
    "update_period(create_connection('table.db'),4,'wednesday','SE')\n",
    "view_period(create_connection('table.db'), 4, 'wednesday')"
   ]
  },
  {
   "cell_type": "code",
   "execution_count": 38,
   "metadata": {},
   "outputs": [
    {
     "data": {
      "text/plain": [
       "'the 4th period of wednesday is ML'"
      ]
     },
     "execution_count": 38,
     "metadata": {},
     "output_type": "execute_result"
    }
   ],
   "source": [
    "view_period(create_connection('table.db'), 4 , 'wednesday')"
   ]
  },
  {
   "cell_type": "code",
   "execution_count": 10,
   "metadata": {},
   "outputs": [
    {
     "name": "stdout",
     "output_type": "stream",
     "text": [
      "ML\n",
      "Thanks I updated your data into my db\n"
     ]
    }
   ],
   "source": [
    "print(update_period(create_connection('table.db'),4,'wednesday','ML'))"
   ]
  },
  {
   "cell_type": "code",
   "execution_count": 8,
   "metadata": {},
   "outputs": [],
   "source": [
    "def handle_db (conn, text):\n",
    "    chat = text\n",
    "    conn = create_connection(\"table.db\")\n",
    "    arr = tokenization(chat)\n",
    "\n",
    "    if arr[1] == \"view\":\n",
    "      chat = text_preprocessing(chat)\n",
    "      return view_period(conn, int(chat[0]), chat[1])\n",
    "    else:\n",
    "      chat = text_preprocessing(chat)\n",
    "      return update_period(conn, int(chat[0]), chat[1], chat[2])"
   ]
  },
  {
   "cell_type": "code",
   "execution_count": null,
   "metadata": {},
   "outputs": [],
   "source": []
  }
 ],
 "metadata": {
  "kernelspec": {
   "display_name": "guruenv",
   "language": "python",
   "name": "guruenv"
  },
  "language_info": {
   "codemirror_mode": {
    "name": "ipython",
    "version": 3
   },
   "file_extension": ".py",
   "mimetype": "text/x-python",
   "name": "python",
   "nbconvert_exporter": "python",
   "pygments_lexer": "ipython3",
   "version": "3.7.7"
  }
 },
 "nbformat": 4,
 "nbformat_minor": 4
}
